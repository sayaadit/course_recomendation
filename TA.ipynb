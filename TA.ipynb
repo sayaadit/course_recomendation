{
  "nbformat": 4,
  "nbformat_minor": 0,
  "metadata": {
    "colab": {
      "name": "TA.ipynb",
      "version": "0.3.2",
      "provenance": [],
      "toc_visible": true
    },
    "kernelspec": {
      "name": "python3",
      "display_name": "Python 3"
    }
  },
  "cells": [
    {
      "cell_type": "markdown",
      "metadata": {
        "id": "oiWhD2EuzWPU",
        "colab_type": "text"
      },
      "source": [
        "# Instalasi Library"
      ]
    },
    {
      "cell_type": "markdown",
      "metadata": {
        "id": "Hz-7mLlc7rKT",
        "colab_type": "text"
      },
      "source": [
        "Bagian ini berisi code untuk instalasi library mlxtend untuk ASSOCIATION RULE yang akan dirancang."
      ]
    },
    {
      "cell_type": "code",
      "metadata": {
        "id": "uZa5v8b96V-t",
        "colab_type": "code",
        "colab": {}
      },
      "source": [
        "!pip install mlxtend"
      ],
      "execution_count": 0,
      "outputs": []
    },
    {
      "cell_type": "code",
      "metadata": {
        "id": "5mfiL9tazSxY",
        "colab_type": "code",
        "colab": {}
      },
      "source": [
        "import pandas as pd\n",
        "from mlxtend.preprocessing import TransactionEncoder\n",
        "from mlxtend.frequent_patterns import apriori\n",
        "from mlxtend.frequent_patterns import association_rules"
      ],
      "execution_count": 0,
      "outputs": []
    },
    {
      "cell_type": "markdown",
      "metadata": {
        "id": "iAG2Ee441WQj",
        "colab_type": "text"
      },
      "source": [
        "Membaca data set yang berisi nilai mahasiswa yang menjadi syarat pre-quisite MK Pilihan"
      ]
    },
    {
      "cell_type": "code",
      "metadata": {
        "id": "6cJLZeVZ1U5v",
        "colab_type": "code",
        "outputId": "6b6ebd2f-3234-4e18-eeb7-03133f549e58",
        "colab": {
          "base_uri": "https://localhost:8080/",
          "height": 1169
        }
      },
      "source": [
        "df = pd.read_csv('dt_set.csv')\n",
        "print(df)"
      ],
      "execution_count": 16,
      "outputs": [
        {
          "output_type": "stream",
          "text": [
            "                                 nama_mhs md1 md2 md3 md4  ... tl1.1 tl2 tl3 tl4 tl5\n",
            "0                 ROFIF_IRSYAD_FAKHRUDDIN   C   B   C   C  ...     B       B  AB  AB\n",
            "1                      REZHA_ANUGRAH_HADI   C   C   C   E  ...     E       C   C   E\n",
            "2                    RIVALDI_RACHMADWITYA   D  AB   D   C  ...    BC       B   C   B\n",
            "3                        ADE_NAUFAL_AMMAR  AB  BC  AB   C  ...    BC       C   C   A\n",
            "4            MUHAMMAD_IBRAIHAN_DIVIANTAMA   D   C   C   C  ...    AB       C   D  BC\n",
            "5                    ALWI_FAISAL_ZULFIKAR  BC   B   D   C  ...     B      BC  BC   B\n",
            "6                    ELROI_CHRISTIAN_NDUN   D   B  BC   C  ...     B      BC   C  AB\n",
            "7              ABDUL_AZIIZ_HENDRIE_KIRONO   D   D   B   D  ...    BC       D   C   B\n",
            "8                              ANDI_LATIF   C  AB   B   C  ...     A   A  AB  BC  BC\n",
            "9                          YUSUF_YUNADIAN   C   B  AB   A  ...     C      AB   A  AB\n",
            "10                           ALGI_FAJARDI   D  BC  BC   C  ...     C      AB   B   B\n",
            "11                     KAMAL_HASAN_MAHMUD  AB   A   A  AB  ...     A       A   A  AB\n",
            "12                   DHEVIN_ANDREAN_AKBAR   D  BC  BC   C  ...    BC       C  AB   C\n",
            "13                 REGY_ARYA_ADHI_PRATAMA   C   C  BC  BC  ...     B       C  BC   C\n",
            "14                 RAJA_INGAN_CIO_GINTING   B   A  AB  AB  ...    AB       A  AB   A\n",
            "15                 MOCHAMAD_YUSUF_SOLIHIN  AB   A   A   A  ...    AB       B   B  BC\n",
            "16  HENDRIK_CHRISTIAN_JANIFER_SIMANJUNTAK   C  AB   C  AB  ...    AB       C   A   B\n",
            "17                            HAFIZHUDDIN   C   A   A  BC  ...     B       B  AB   E\n",
            "18           CHARLY_HAHOLONGAN_SITUMORANG   C   C   C  BC  ...     B      BC  BC  AB\n",
            "19                         ARSYA_ARDIANSA   C   C   B  BC  ...    AB      AB   B   C\n",
            "20                FIKRI_ATTAMAMI_LAGULIGA   C   C   B  BC  ...    AB       A  AB  BC\n",
            "21               DANNY_FIRAS_FATHURRAHMAN   D  BC   C   C  ...     B      BC  AB  BC\n",
            "22                  ABYAN_ARIEF_FERNANDEZ  BC  AB  AB   B  ...     B       B   B   B\n",
            "23                  BRAMA_HENDRA_MAHENDRA  AB  AB   A   B  ...     B       A  AB   B\n",
            "24             MUHAMMAD_RYAN_HADI_PRATAMA  BC   C  AB   C  ...    BC      BC  AB   C\n",
            "25                    RAMA_ADITYA_MAULANA  BC  AB   A   A  ...    AB      AB   B  AB\n",
            "26                 KUKUH_RAHINGGA_PERMADI   B   A  AB   B  ...     A      AB   A  AB\n",
            "27                           IQBAL_BASYAR   A   A   A   A  ...    AB       A   A   A\n",
            "28                        RAGINDA_FIRDAUS  AB   A   A  AB  ...    AB      AB   A   A\n",
            "29                        ISA_MULIA_INSAN  AB   A   A  BC  ...     B       B  AB   C\n",
            "..                                    ...  ..  ..  ..  ..  ...   ...  ..  ..  ..  ..\n",
            "55                     KURNIA_RIZKY_MULIA   C   A   A   C  ...            AB        \n",
            "56                ARIQ_NOVDHIALI_WIBISONO   B   A   A   A  ...     A       A   A   B\n",
            "57            ADITYA_STANDLEY_CHRISTIANTO   A   A   A  AB  ...     A       A  AB  AB\n",
            "58                   AHMAD_MUAMMAR_FANANI  AB   A   A   B  ...     A       A  BC   A\n",
            "59                         ARDI_HENDRAWAN  BC   D   D      ...                      \n",
            "60                      IRFAN_DWI_PRAKOSO  AB   A   A   A  ...     A       A  AB  AB\n",
            "61                        HAIFA_SALSABILA   A   A   A  AB  ...    AB      AB   A   A\n",
            "62                        HAFIDZIL_KHAIRI  AB   A   A   B  ...     A       A   A  AB\n",
            "63              IRFANDIO_DAFFA_AGUSTANTIO  BC   A  BC   B  ...    AB       A  AB   C\n",
            "64                   MUCH_YUSRIL_MAHENDRA  AB  AB   A  AB  ...    AB      AB   C   D\n",
            "65                   MUHAMMAD_ZAKI_FAIZAL  BC   A   A   B  ...     A      AB  AB   B\n",
            "66                    FEDY_FAHRON_GUNTARA  AB   A   A   A  ...     A       A   A   A\n",
            "67                     CINDY_ALIFIA_PUTRI  AB   A   A   A  ...     A       A   A  AB\n",
            "68          MOCHAMMAD_ARIA_PUTRA_SUWANTRA   B   A   A   A  ...     A       A  AB   A\n",
            "69                  DANIT_HAFIZ_PAMUNGKAS   A   A   A   C  ...    AB       C   A  AB\n",
            "70                       MAULANA_AZIZWARA   C   B   A   C  ...    AB      AB  AB   C\n",
            "71                       LARAS_GUPITASARI   B   A   A  AB  ...    AB      AB  AB   A\n",
            "72                     BILIPUTRA_DIPRADJA   B  BC   C  BC  ...    AB       C       B\n",
            "73                    CATUR_SURYO_NUGROHO   B   A   B  BC  ...    AB      AB  BC  AB\n",
            "74                    DERYANDARU_BHASKARA   D  AB   A   D  ...     B       B   C  BC\n",
            "75                  FARHAN_SYAHREZA_PUTRA   C   C   B   C  ...    BC       B   C   B\n",
            "76                           INDERA_IHSAN  BC  AB   B   C  ...    AB       A  AB   C\n",
            "77                   ANOM_SENTANU_PRAYOSA  BC  BC   A  AB  ...     A       A  AB  BC\n",
            "78                        DWI_KUNCORO_AJI   B   B   B  BC  ...    BC       B   C   A\n",
            "79         MUHAMMAD_FAJAR_TAUFIQQURRAHMAN   E   D   D   D  ...             C   C    \n",
            "80               AHMAD_JAILANI_NURUL_HUDA  BC   C   C  AB  ...     B       C   B    \n",
            "81                  YUDHA_BAGAS_LARASANTO  AB   B   A  AB  ...     A      AB  AB   B\n",
            "82                       AEDHELIO_PRATAMA  AB   A   A   A  ...     A       A  AB   B\n",
            "83            MUHAMMAD_HANIF_RIFKI_ROHMAN   C   C   C   C  ...    AB      BC        \n",
            "84        ABDURROHMAN_SHALEH_KARNAWIDJAYA  AB   A  AB      ...                      \n",
            "\n",
            "[85 rows x 26 columns]\n"
          ],
          "name": "stdout"
        }
      ]
    },
    {
      "cell_type": "code",
      "metadata": {
        "id": "uGkb9x3j46oz",
        "colab_type": "code",
        "colab": {}
      },
      "source": [
        ""
      ],
      "execution_count": 0,
      "outputs": []
    }
  ]
}